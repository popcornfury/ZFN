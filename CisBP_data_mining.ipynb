{
 "cells": [
  {
   "cell_type": "code",
   "execution_count": 1,
   "metadata": {},
   "outputs": [],
   "source": [
    "import numpy as np\n",
    "import pandas as pd\n",
    "import os\n",
    "import re\n",
    "import matplotlib.pyplot as plt"
   ]
  },
  {
   "cell_type": "code",
   "execution_count": 2,
   "metadata": {},
   "outputs": [],
   "source": [
    "# new entries in Transcription Factors (UniProt)\n",
    "# for num_fewer_matches == 1, just take their UniProt ID (there are 1491/1555 of them so far)"
   ]
  },
  {
   "cell_type": "code",
   "execution_count": 3,
   "metadata": {},
   "outputs": [],
   "source": [
    "fp = os.path.join('data', 'CisBP_C2H2_ZFs', 'PWM.txt')"
   ]
  },
  {
   "cell_type": "code",
   "execution_count": 4,
   "metadata": {},
   "outputs": [
    {
     "data": {
      "text/plain": [
       "2104"
      ]
     },
     "execution_count": 4,
     "metadata": {},
     "output_type": "execute_result"
    }
   ],
   "source": [
    "open(fp).read().count('\\n\\n\\n') # '\\n\\n\\n' is a divider, so we have 2105 total rows from fp"
   ]
  },
  {
   "cell_type": "code",
   "execution_count": 5,
   "metadata": {},
   "outputs": [],
   "source": [
    "def CisBP_to_df(fp):\n",
    "    \"\"\"\n",
    "    fp: file path to desired file\n",
    "    \"\"\"\n",
    "    ZF_entries = open(fp).read().split('\\n\\n\\n')\n",
    "    ZF_entries = [ZF_entry.replace('\\t', ' ').split('\\n') for ZF_entry in ZF_entries]\n",
    "    ZF_entries = process_ZF_entries(ZF_entries) \n",
    "    return pd.DataFrame(ZF_entries)"
   ]
  },
  {
   "cell_type": "code",
   "execution_count": 6,
   "metadata": {},
   "outputs": [],
   "source": [
    "def process_ZF_entries(ZF_entries):\n",
    "    output = []\n",
    "    print('fix temp')\n",
    "    for lst in ZF_entries:\n",
    "        temp = [elem.rpartition(' ') for elem in lst[:6]]\n",
    "        if len(temp) > 4:\n",
    "            del temp[4]\n",
    "        d = {}\n",
    "        for tup in temp:\n",
    "            d[tup[0]] = tup[2] # tup[1] is just a space\n",
    "        \n",
    "        PWM = lst[7:]\n",
    "        PWM = [column.partition(' ')[2] for column in PWM]\n",
    "        d['PWM'] = transpose_PWM(PWM)\n",
    "        \n",
    "        output.append(d)\n",
    "    return output"
   ]
  },
  {
   "cell_type": "code",
   "execution_count": 7,
   "metadata": {},
   "outputs": [],
   "source": [
    "def transpose_PWM(PWM):\n",
    "    rows = [row.split() for row in PWM]\n",
    "    transpose = [[0 for _ in range(len(PWM))] for _ in range(4)]\n",
    "    for i in range(4):\n",
    "        transpose[i] = [float(row[i]) for row in rows]\n",
    "    return np.array(transpose)"
   ]
  },
  {
   "cell_type": "code",
   "execution_count": 8,
   "metadata": {},
   "outputs": [],
   "source": [
    "def is_empty_PWM(PWM):\n",
    "    return PWM.tolist() != np.array([[],[],[],[]]).tolist()"
   ]
  },
  {
   "cell_type": "code",
   "execution_count": 9,
   "metadata": {},
   "outputs": [
    {
     "name": "stdout",
     "output_type": "stream",
     "text": [
      "fix temp\n"
     ]
    }
   ],
   "source": [
    "test = CisBP_to_df(fp).drop(columns=['']).iloc[:-1]"
   ]
  },
  {
   "cell_type": "code",
   "execution_count": 10,
   "metadata": {},
   "outputs": [],
   "source": [
    "test['has_PWM'] = test['PWM'].apply(is_empty_PWM)"
   ]
  },
  {
   "cell_type": "code",
   "execution_count": 11,
   "metadata": {},
   "outputs": [
    {
     "data": {
      "text/html": [
       "<div>\n",
       "<style scoped>\n",
       "    .dataframe tbody tr th:only-of-type {\n",
       "        vertical-align: middle;\n",
       "    }\n",
       "\n",
       "    .dataframe tbody tr th {\n",
       "        vertical-align: top;\n",
       "    }\n",
       "\n",
       "    .dataframe thead th {\n",
       "        text-align: right;\n",
       "    }\n",
       "</style>\n",
       "<table border=\"1\" class=\"dataframe\">\n",
       "  <thead>\n",
       "    <tr style=\"text-align: right;\">\n",
       "      <th></th>\n",
       "      <th>TF</th>\n",
       "      <th>TF Name</th>\n",
       "      <th>Gene</th>\n",
       "      <th>Motif</th>\n",
       "      <th>Species</th>\n",
       "      <th>PWM</th>\n",
       "      <th>has_PWM</th>\n",
       "    </tr>\n",
       "  </thead>\n",
       "  <tbody>\n",
       "    <tr>\n",
       "      <th>0</th>\n",
       "      <td>T080828_2.00</td>\n",
       "      <td>AT1G14580</td>\n",
       "      <td>AT1G14580</td>\n",
       "      <td>M06797_2.00</td>\n",
       "      <td>Arabidopsis_thaliana</td>\n",
       "      <td>[[0.252066, 0.252066, 0.247934, 0.297521, 0.23...</td>\n",
       "      <td>True</td>\n",
       "    </tr>\n",
       "    <tr>\n",
       "      <th>1</th>\n",
       "      <td>T080828_2.00</td>\n",
       "      <td>AT1G14580</td>\n",
       "      <td>AT1G14580</td>\n",
       "      <td>M06798_2.00</td>\n",
       "      <td>Arabidopsis_thaliana</td>\n",
       "      <td>[[0.308219, 0.25, 0.155822, 0.018836, 0.001712...</td>\n",
       "      <td>True</td>\n",
       "    </tr>\n",
       "    <tr>\n",
       "      <th>2</th>\n",
       "      <td>T080841_2.00</td>\n",
       "      <td>AT2G15740</td>\n",
       "      <td>AT2G15740</td>\n",
       "      <td>M06810_2.00</td>\n",
       "      <td>Arabidopsis_thaliana</td>\n",
       "      <td>[[0.285, 0.021667, 0.095, 0.186667, 0.196667, ...</td>\n",
       "      <td>True</td>\n",
       "    </tr>\n",
       "    <tr>\n",
       "      <th>3</th>\n",
       "      <td>T080850_2.00</td>\n",
       "      <td>AT2G48100</td>\n",
       "      <td>AT2G48100</td>\n",
       "      <td>M06812_2.00</td>\n",
       "      <td>Arabidopsis_thaliana</td>\n",
       "      <td>[[0.0, 0.0, 0.0, 0.0, 0.0, 0.894737], [0.0, 0....</td>\n",
       "      <td>True</td>\n",
       "    </tr>\n",
       "    <tr>\n",
       "      <th>4</th>\n",
       "      <td>T080855_2.00</td>\n",
       "      <td>AT3G46070</td>\n",
       "      <td>AT3G46070</td>\n",
       "      <td>M06813_2.00</td>\n",
       "      <td>Arabidopsis_thaliana</td>\n",
       "      <td>[[0.222772, 0.133663, 0.386139, 0.311881, 0.08...</td>\n",
       "      <td>True</td>\n",
       "    </tr>\n",
       "  </tbody>\n",
       "</table>\n",
       "</div>"
      ],
      "text/plain": [
       "             TF    TF Name       Gene        Motif               Species  \\\n",
       "0  T080828_2.00  AT1G14580  AT1G14580  M06797_2.00  Arabidopsis_thaliana   \n",
       "1  T080828_2.00  AT1G14580  AT1G14580  M06798_2.00  Arabidopsis_thaliana   \n",
       "2  T080841_2.00  AT2G15740  AT2G15740  M06810_2.00  Arabidopsis_thaliana   \n",
       "3  T080850_2.00  AT2G48100  AT2G48100  M06812_2.00  Arabidopsis_thaliana   \n",
       "4  T080855_2.00  AT3G46070  AT3G46070  M06813_2.00  Arabidopsis_thaliana   \n",
       "\n",
       "                                                 PWM  has_PWM  \n",
       "0  [[0.252066, 0.252066, 0.247934, 0.297521, 0.23...     True  \n",
       "1  [[0.308219, 0.25, 0.155822, 0.018836, 0.001712...     True  \n",
       "2  [[0.285, 0.021667, 0.095, 0.186667, 0.196667, ...     True  \n",
       "3  [[0.0, 0.0, 0.0, 0.0, 0.0, 0.894737], [0.0, 0....     True  \n",
       "4  [[0.222772, 0.133663, 0.386139, 0.311881, 0.08...     True  "
      ]
     },
     "execution_count": 11,
     "metadata": {},
     "output_type": "execute_result"
    }
   ],
   "source": [
    "test.head()"
   ]
  },
  {
   "cell_type": "code",
   "execution_count": 12,
   "metadata": {},
   "outputs": [],
   "source": [
    "cleaned_cisbp = test[test['has_PWM'] == True].drop(columns=['has_PWM'])"
   ]
  },
  {
   "cell_type": "markdown",
   "metadata": {},
   "source": [
    "Below is the code for aligning DNA sequences (from Database_ZF Designs) from UniProt with CisBP entries."
   ]
  },
  {
   "cell_type": "code",
   "execution_count": 13,
   "metadata": {},
   "outputs": [],
   "source": [
    "fp = os.path.join('data', 'UniProt_ZF.csv')\n",
    "uniprot_zf = pd.read_csv(open(fp)).drop(columns=['Unnamed: 0', 'DNA Binding Sequence (to be added)'])\n",
    "#fp = os.path.join('data', 'Transcription Factors (UniProt).xlsx')\n",
    "#uniprot_zf = pd.read_excel(fp)"
   ]
  },
  {
   "cell_type": "code",
   "execution_count": 14,
   "metadata": {},
   "outputs": [
    {
     "data": {
      "text/plain": [
       "(12948, 7)"
      ]
     },
     "execution_count": 14,
     "metadata": {},
     "output_type": "execute_result"
    }
   ],
   "source": [
    "uniprot_zf.shape"
   ]
  },
  {
   "cell_type": "code",
   "execution_count": 15,
   "metadata": {},
   "outputs": [],
   "source": [
    "uniprot_zf = uniprot_zf.rename(columns={'Entry': 'UniProt ID'})\n",
    "uniprot_zf = uniprot_zf[uniprot_zf['Gene names'].notnull()]"
   ]
  },
  {
   "cell_type": "code",
   "execution_count": 16,
   "metadata": {},
   "outputs": [
    {
     "data": {
      "text/plain": [
       "Index(['TF', 'TF Name', 'Gene', 'Motif', 'Species', 'PWM'], dtype='object')"
      ]
     },
     "metadata": {},
     "output_type": "display_data"
    },
    {
     "data": {
      "text/plain": [
       "Index(['Entry (Uniprot ID)', 'Entry name', 'Protein names', 'Gene names',\n",
       "       'Organism', 'Zinc finger', 'Sequence'],\n",
       "      dtype='object')"
      ]
     },
     "metadata": {},
     "output_type": "display_data"
    }
   ],
   "source": [
    "display(cleaned_cisbp.columns, uniprot_zf.columns)"
   ]
  },
  {
   "cell_type": "code",
   "execution_count": 17,
   "metadata": {},
   "outputs": [],
   "source": [
    "def uniprot_gene_names_contains(name):\n",
    "    \"\"\"\n",
    "    Match TF Name to Gene names (same column in both sheets)\n",
    "    \"\"\"\n",
    "    name = name.lower()\n",
    "    lst = []\n",
    "    for i, entry in enumerate(uniprot_zf['Gene names'].str.lower()):\n",
    "        if re.search('(^| )' + name + '($| )', entry) != None: \n",
    "            # the above is some regex. ^ means start of line, $ means end of line, | means or. \n",
    "            lst.append({'index': i, 'name': entry})\n",
    "            # index is the row index (access by iloc) in uniprot_zf to which the match corresponds\n",
    "    return lst"
   ]
  },
  {
   "cell_type": "code",
   "execution_count": null,
   "metadata": {},
   "outputs": [],
   "source": [
    "# very long run time\n",
    "cleaned_cisbp = cleaned_cisbp.assign(possible_match=cleaned_cisbp['TF Name'].apply(uniprot_gene_names_contains))"
   ]
  },
  {
   "cell_type": "code",
   "execution_count": null,
   "metadata": {},
   "outputs": [],
   "source": [
    "cleaned_cisbp = cleaned_cisbp.assign(num_possible_match=cleaned_cisbp['possible_match'].apply(lambda l: len(l)))"
   ]
  },
  {
   "cell_type": "code",
   "execution_count": null,
   "metadata": {},
   "outputs": [],
   "source": [
    "matched_cisbp = cleaned_cisbp[cleaned_cisbp['num_possible_match'] != 0]"
   ]
  },
  {
   "cell_type": "code",
   "execution_count": null,
   "metadata": {},
   "outputs": [],
   "source": [
    "plt.hist(matched_cisbp['num_possible_match'], bins=range(25))\n",
    "plt.xlabel('Number of matching rows in UniProt')\n",
    "plt.ylabel('Number of rows with 1, 2,..., 40 matches')\n",
    "plt.show()"
   ]
  },
  {
   "cell_type": "code",
   "execution_count": null,
   "metadata": {},
   "outputs": [],
   "source": [
    "def filter_by_organism(ser):\n",
    "    \"\"\"\n",
    "    Run new_df = matched_cisbp.apply(filter_by_organism), which should take the list in possible_match and \n",
    "    eliminate entries that correspond to a TF that doesn't belong to the Species column in matched_cisbp\n",
    "    \"\"\"\n",
    "    lst = ser['possible_match']\n",
    "    true_species = ser['Species'].replace('_', ' ')\n",
    "    species_matches = []\n",
    "    if len(lst) > 1:\n",
    "        for d in lst:\n",
    "            if true_species in uniprot_zf.iloc[d['index']]['Organism']: # works for both sheets\n",
    "                species_matches.append(d)\n",
    "        return species_matches\n",
    "    elif len(lst) == 1:\n",
    "        return lst\n",
    "    else:\n",
    "        return np.NaN"
   ]
  },
  {
   "cell_type": "code",
   "execution_count": null,
   "metadata": {},
   "outputs": [],
   "source": [
    "matched_cisbp.head()"
   ]
  },
  {
   "cell_type": "code",
   "execution_count": null,
   "metadata": {},
   "outputs": [],
   "source": [
    "# use for looking at examples"
   ]
  },
  {
   "cell_type": "code",
   "execution_count": null,
   "metadata": {},
   "outputs": [],
   "source": []
  },
  {
   "cell_type": "code",
   "execution_count": null,
   "metadata": {},
   "outputs": [],
   "source": [
    "fewer_match = matched_cisbp.apply(filter_by_organism, axis=1)\n",
    "matched_cisbp = matched_cisbp.assign(fewer_match=fewer_match)\n",
    "matched_cisbp = matched_cisbp.assign(num_fewer_match=matched_cisbp['fewer_match'].apply(len))"
   ]
  },
  {
   "cell_type": "code",
   "execution_count": null,
   "metadata": {
    "scrolled": true
   },
   "outputs": [],
   "source": [
    "#with UniProt_ZF.csv (Endogenous (Human Genome)): reduction from 984 to 57 rows with more than one UniProt match\n",
    "#with Transcription Factors (UniProt).xlsx: reduction from 887 to 40\n",
    "display(matched_cisbp[matched_cisbp['num_possible_match'] > 1].shape)\n",
    "display(matched_cisbp[matched_cisbp['num_fewer_match'] > 1].shape)\n",
    "matched_cisbp[matched_cisbp['num_fewer_match'] > 1][['num_possible_match', 'num_fewer_match']]"
   ]
  },
  {
   "cell_type": "markdown",
   "metadata": {},
   "source": [
    "Unfortunately, there are some rows that had no matches in the UniProt database w.r.t. `Species` or `Organism`."
   ]
  },
  {
   "cell_type": "code",
   "execution_count": null,
   "metadata": {},
   "outputs": [],
   "source": [
    "matched_cisbp[matched_cisbp['num_fewer_match'] == 0].shape"
   ]
  },
  {
   "cell_type": "markdown",
   "metadata": {},
   "source": [
    "Now, for all rows with column `num_fewer_match` > 1, see if the sequences in their `fewer_match` column are identical. If they are, then set that sequence to be their sequence. Otherwise, set the sequence to np.NaN"
   ]
  },
  {
   "cell_type": "code",
   "execution_count": null,
   "metadata": {},
   "outputs": [],
   "source": [
    "def filter_fewer_match_by_seq(fewer_match):\n",
    "    \"\"\"\n",
    "    fewer_match: a list in column fewer_match\n",
    "    use as matched_cisbp['final_sequence'] = matched_cisbp['fewer_match'].apply(filter_fewer_match_by_seq)\n",
    "    \"\"\"\n",
    "    for i in range(len(fewer_match)):\n",
    "        if i == 0:\n",
    "            first_seq = uniprot_zf.iloc[fewer_match[0]['index']]['Sequence']\n",
    "        else:\n",
    "            next_seq = uniprot_zf.iloc[fewer_match[i]['index']]['Sequence']\n",
    "            if next_seq != first_seq:\n",
    "                return np.NaN\n",
    "    if len(fewer_match) > 0:\n",
    "        return first_seq\n",
    "    else:\n",
    "        return np.NaN"
   ]
  },
  {
   "cell_type": "code",
   "execution_count": null,
   "metadata": {},
   "outputs": [],
   "source": [
    "matched_cisbp['sequence'] = matched_cisbp['fewer_match'].apply(filter_fewer_match_by_seq)"
   ]
  },
  {
   "cell_type": "code",
   "execution_count": null,
   "metadata": {},
   "outputs": [],
   "source": [
    "matched_cisbp[matched_cisbp['sequence'].notnull()]#.head()"
   ]
  },
  {
   "cell_type": "markdown",
   "metadata": {},
   "source": [
    "### Only three final sequences were recovered by the *important* part of filter_fewer_match_by_seq. ...so let's bang our heads against the wall with a NEW uniprot_zf dataframe! ###"
   ]
  },
  {
   "cell_type": "code",
   "execution_count": 75,
   "metadata": {},
   "outputs": [],
   "source": [
    "fp = os.path.join('data', 'Transcription Factors (UniProt).xlsx')\n",
    "uniprot_zf = pd.read_excel(fp)\n",
    "matched_cisbp_noseq = matched_cisbp[matched_cisbp['sequence'].isnull()]"
   ]
  },
  {
   "cell_type": "code",
   "execution_count": 76,
   "metadata": {},
   "outputs": [
    {
     "data": {
      "text/plain": [
       "(64, 11)"
      ]
     },
     "execution_count": 76,
     "metadata": {},
     "output_type": "execute_result"
    }
   ],
   "source": [
    "matched_cisbp_noseq.shape"
   ]
  },
  {
   "cell_type": "code",
   "execution_count": 85,
   "metadata": {},
   "outputs": [
    {
     "name": "stderr",
     "output_type": "stream",
     "text": [
      "<ipython-input-85-64dbbd413108>:2: SettingWithCopyWarning: \n",
      "A value is trying to be set on a copy of a slice from a DataFrame.\n",
      "Try using .loc[row_indexer,col_indexer] = value instead\n",
      "\n",
      "See the caveats in the documentation: https://pandas.pydata.org/pandas-docs/stable/user_guide/indexing.html#returning-a-view-versus-a-copy\n",
      "  matched_cisbp_noseq['sequence'] = matched_cisbp_noseq['fewer_match'].apply(filter_fewer_match_by_seq)\n"
     ]
    }
   ],
   "source": [
    "# re-make fewer_match with the new sheet, Transcription Factors (UniProt)\n",
    "matched_cisbp_noseq['sequence'] = matched_cisbp_noseq['fewer_match'].apply(filter_fewer_match_by_seq)"
   ]
  },
  {
   "cell_type": "code",
   "execution_count": 90,
   "metadata": {},
   "outputs": [
    {
     "name": "stdout",
     "output_type": "stream",
     "text": [
      "<class 'pandas.core.frame.DataFrame'>\n",
      "Int64Index: 64 entries, 135 to 1775\n",
      "Data columns (total 11 columns):\n",
      " #   Column              Non-Null Count  Dtype  \n",
      "---  ------              --------------  -----  \n",
      " 0   TF                  64 non-null     object \n",
      " 1   TF Name             64 non-null     object \n",
      " 2   Gene                64 non-null     object \n",
      " 3   Motif               64 non-null     object \n",
      " 4   Species             64 non-null     object \n",
      " 5   PWM                 64 non-null     object \n",
      " 6   possible_match      64 non-null     object \n",
      " 7   num_possible_match  64 non-null     int64  \n",
      " 8   fewer_match         64 non-null     object \n",
      " 9   num_fewer_match     64 non-null     int64  \n",
      " 10  sequence            0 non-null      float64\n",
      "dtypes: float64(1), int64(2), object(8)\n",
      "memory usage: 6.0+ KB\n"
     ]
    }
   ],
   "source": [
    "matched_cisbp_noseq.info()"
   ]
  },
  {
   "cell_type": "markdown",
   "metadata": {},
   "source": [
    "It did nothing :("
   ]
  },
  {
   "cell_type": "code",
   "execution_count": 113,
   "metadata": {},
   "outputs": [
    {
     "data": {
      "text/plain": [
       "135"
      ]
     },
     "execution_count": 113,
     "metadata": {},
     "output_type": "execute_result"
    }
   ],
   "source": [
    "matched_cisbp_noseq.sample().index[0]"
   ]
  },
  {
   "cell_type": "code",
   "execution_count": 112,
   "metadata": {},
   "outputs": [
    {
     "data": {
      "text/html": [
       "<div>\n",
       "<style scoped>\n",
       "    .dataframe tbody tr th:only-of-type {\n",
       "        vertical-align: middle;\n",
       "    }\n",
       "\n",
       "    .dataframe tbody tr th {\n",
       "        vertical-align: top;\n",
       "    }\n",
       "\n",
       "    .dataframe thead th {\n",
       "        text-align: right;\n",
       "    }\n",
       "</style>\n",
       "<table border=\"1\" class=\"dataframe\">\n",
       "  <thead>\n",
       "    <tr style=\"text-align: right;\">\n",
       "      <th></th>\n",
       "      <th>Entry</th>\n",
       "      <th>Entry name</th>\n",
       "      <th>Status</th>\n",
       "      <th>Protein names</th>\n",
       "      <th>Gene names</th>\n",
       "      <th>Organism</th>\n",
       "      <th>Length</th>\n",
       "      <th>Sequence</th>\n",
       "      <th>Zinc finger</th>\n",
       "    </tr>\n",
       "  </thead>\n",
       "  <tbody>\n",
       "    <tr>\n",
       "      <th>5101</th>\n",
       "      <td>Q9FGD1</td>\n",
       "      <td>RKD3_ARATH</td>\n",
       "      <td>reviewed</td>\n",
       "      <td>Protein RKD3 (AtRKD3) (RWP-RK domain-containin...</td>\n",
       "      <td>RKD3 At5g66990 K8A10.6</td>\n",
       "      <td>Arabidopsis thaliana (Mouse-ear cress)</td>\n",
       "      <td>277</td>\n",
       "      <td>MADQRPLMTWLEANNYESFLQEDIFSFLDQSLFVDPHSSFIDPFKD...</td>\n",
       "      <td>NaN</td>\n",
       "    </tr>\n",
       "    <tr>\n",
       "      <th>6132</th>\n",
       "      <td>Q1CCZ2</td>\n",
       "      <td>RPOZ_YERPN</td>\n",
       "      <td>reviewed</td>\n",
       "      <td>DNA-directed RNA polymerase subunit omega (RNA...</td>\n",
       "      <td>rpoZ YPN_3811 YP516_4331</td>\n",
       "      <td>Yersinia pestis bv. Antiqua (strain Nepal516)</td>\n",
       "      <td>91</td>\n",
       "      <td>MARVTVQDAVEKIGNRFDLVLVAARRARQIQSGGKDALVPEENDKV...</td>\n",
       "      <td>NaN</td>\n",
       "    </tr>\n",
       "  </tbody>\n",
       "</table>\n",
       "</div>"
      ],
      "text/plain": [
       "       Entry  Entry name    Status  \\\n",
       "5101  Q9FGD1  RKD3_ARATH  reviewed   \n",
       "6132  Q1CCZ2  RPOZ_YERPN  reviewed   \n",
       "\n",
       "                                          Protein names  \\\n",
       "5101  Protein RKD3 (AtRKD3) (RWP-RK domain-containin...   \n",
       "6132  DNA-directed RNA polymerase subunit omega (RNA...   \n",
       "\n",
       "                    Gene names                                       Organism  \\\n",
       "5101    RKD3 At5g66990 K8A10.6         Arabidopsis thaliana (Mouse-ear cress)   \n",
       "6132  rpoZ YPN_3811 YP516_4331  Yersinia pestis bv. Antiqua (strain Nepal516)   \n",
       "\n",
       "      Length                                           Sequence Zinc finger  \n",
       "5101     277  MADQRPLMTWLEANNYESFLQEDIFSFLDQSLFVDPHSSFIDPFKD...         NaN  \n",
       "6132      91  MARVTVQDAVEKIGNRFDLVLVAARRARQIQSGGKDALVPEENDKV...         NaN  "
      ]
     },
     "execution_count": 112,
     "metadata": {},
     "output_type": "execute_result"
    }
   ],
   "source": [
    "uniprot_zf.iloc[[d['index'] for d in matched_cisbp_noseq.loc[13]['fewer_match']]]"
   ]
  },
  {
   "cell_type": "code",
   "execution_count": null,
   "metadata": {},
   "outputs": [],
   "source": []
  },
  {
   "cell_type": "code",
   "execution_count": null,
   "metadata": {},
   "outputs": [],
   "source": []
  },
  {
   "cell_type": "code",
   "execution_count": null,
   "metadata": {},
   "outputs": [],
   "source": [
    "matched_cisbp.to_excel('CisBP_many_matches.xlsx')"
   ]
  },
  {
   "cell_type": "code",
   "execution_count": null,
   "metadata": {},
   "outputs": [],
   "source": []
  },
  {
   "cell_type": "code",
   "execution_count": null,
   "metadata": {},
   "outputs": [],
   "source": []
  },
  {
   "cell_type": "code",
   "execution_count": null,
   "metadata": {},
   "outputs": [],
   "source": []
  },
  {
   "cell_type": "code",
   "execution_count": null,
   "metadata": {},
   "outputs": [],
   "source": []
  },
  {
   "cell_type": "code",
   "execution_count": null,
   "metadata": {},
   "outputs": [],
   "source": []
  },
  {
   "cell_type": "code",
   "execution_count": null,
   "metadata": {},
   "outputs": [],
   "source": []
  },
  {
   "cell_type": "code",
   "execution_count": null,
   "metadata": {},
   "outputs": [],
   "source": []
  },
  {
   "cell_type": "code",
   "execution_count": null,
   "metadata": {},
   "outputs": [],
   "source": []
  },
  {
   "cell_type": "code",
   "execution_count": null,
   "metadata": {},
   "outputs": [],
   "source": []
  },
  {
   "cell_type": "code",
   "execution_count": null,
   "metadata": {},
   "outputs": [],
   "source": []
  },
  {
   "cell_type": "code",
   "execution_count": null,
   "metadata": {},
   "outputs": [],
   "source": []
  },
  {
   "cell_type": "code",
   "execution_count": 126,
   "metadata": {},
   "outputs": [],
   "source": [
    "subset_ZF_entries = open(fp).read().split('\\n\\n\\n')[:2]"
   ]
  },
  {
   "cell_type": "code",
   "execution_count": 127,
   "metadata": {
    "scrolled": true
   },
   "outputs": [
    {
     "data": {
      "text/plain": [
       "['TF T080828_2.00',\n",
       " 'TF Name AT1G14580',\n",
       " 'Gene AT1G14580',\n",
       " 'Motif M06797_2.00',\n",
       " 'Family C2H2 ZF',\n",
       " 'Species Arabidopsis_thaliana']"
      ]
     },
     "execution_count": 127,
     "metadata": {},
     "output_type": "execute_result"
    }
   ],
   "source": [
    "[ZF_entry.replace('\\t', ' ').split('\\n') for ZF_entry in subset_ZF_entries][0][:6]"
   ]
  },
  {
   "cell_type": "code",
   "execution_count": 128,
   "metadata": {
    "scrolled": true
   },
   "outputs": [
    {
     "data": {
      "text/plain": [
       "[{'TF': 'T080828_2.00',\n",
       "  'TF Name': 'AT1G14580',\n",
       "  'Gene': 'AT1G14580',\n",
       "  'Motif': 'M06797_2.00',\n",
       "  'Species': 'Arabidopsis_thaliana',\n",
       "  'PWM': array([[0.252066, 0.252066, 0.247934, 0.297521, 0.239669, 0.103306,\n",
       "          0.      , 0.      , 0.      , 0.      , 0.      , 0.008264,\n",
       "          0.053719, 0.008264, 0.028926, 0.144628, 0.268595, 0.086777,\n",
       "          0.016529, 0.157025],\n",
       "         [0.14876 , 0.132231, 0.177686, 0.11157 , 0.095041, 0.061983,\n",
       "          0.024793, 0.008264, 0.024793, 0.004132, 0.008264, 0.979339,\n",
       "          0.086777, 0.03719 , 0.132231, 0.      , 0.020661, 0.367769,\n",
       "          0.272727, 0.061983],\n",
       "         [0.132231, 0.140496, 0.132231, 0.115702, 0.115702, 0.045455,\n",
       "          0.020661, 0.      , 0.004132, 0.991736, 0.061983, 0.      ,\n",
       "          0.636364, 0.057851, 0.053719, 0.024793, 0.004132, 0.446281,\n",
       "          0.016529, 0.483471],\n",
       "         [0.466942, 0.475207, 0.442149, 0.475207, 0.549587, 0.789256,\n",
       "          0.954545, 0.991736, 0.971074, 0.004132, 0.929752, 0.012397,\n",
       "          0.22314 , 0.896694, 0.785124, 0.830579, 0.706612, 0.099174,\n",
       "          0.694215, 0.297521]])},\n",
       " {'TF': 'T080828_2.00',\n",
       "  'TF Name': 'AT1G14580',\n",
       "  'Gene': 'AT1G14580',\n",
       "  'Motif': 'M06798_2.00',\n",
       "  'Species': 'Arabidopsis_thaliana',\n",
       "  'PWM': array([[0.308219, 0.25    , 0.155822, 0.018836, 0.001712, 0.      ,\n",
       "          0.      , 0.      , 0.02226 , 0.059932, 0.006849, 0.017123,\n",
       "          0.202055, 0.260274, 0.066781, 0.018836, 0.188356],\n",
       "         [0.131849, 0.145548, 0.083904, 0.063356, 0.006849, 0.005137,\n",
       "          0.      , 0.      , 0.964041, 0.104452, 0.034247, 0.203767,\n",
       "          0.      , 0.018836, 0.407534, 0.308219, 0.070205],\n",
       "         [0.131849, 0.155822, 0.054795, 0.023973, 0.02226 , 0.      ,\n",
       "          1.      , 0.068493, 0.      , 0.539384, 0.094178, 0.070205,\n",
       "          0.      , 0.      , 0.424658, 0.017123, 0.436644],\n",
       "         [0.428082, 0.44863 , 0.705479, 0.893836, 0.969178, 0.994863,\n",
       "          0.      , 0.931507, 0.013699, 0.296233, 0.864726, 0.708904,\n",
       "          0.797945, 0.72089 , 0.101027, 0.655822, 0.304795]])}]"
      ]
     },
     "execution_count": 128,
     "metadata": {},
     "output_type": "execute_result"
    }
   ],
   "source": [
    "process_ZF_entries([ZF_entry.replace('\\t', ' ').split('\\n') for ZF_entry in subset_ZF_entries])"
   ]
  },
  {
   "cell_type": "code",
   "execution_count": null,
   "metadata": {},
   "outputs": [],
   "source": []
  },
  {
   "cell_type": "code",
   "execution_count": null,
   "metadata": {},
   "outputs": [],
   "source": []
  }
 ],
 "metadata": {
  "kernelspec": {
   "display_name": "Python 3",
   "language": "python",
   "name": "python3"
  },
  "language_info": {
   "codemirror_mode": {
    "name": "ipython",
    "version": 3
   },
   "file_extension": ".py",
   "mimetype": "text/x-python",
   "name": "python",
   "nbconvert_exporter": "python",
   "pygments_lexer": "ipython3",
   "version": "3.8.5"
  }
 },
 "nbformat": 4,
 "nbformat_minor": 4
}
