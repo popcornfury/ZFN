{
 "cells": [
  {
   "cell_type": "code",
   "execution_count": 370,
   "metadata": {},
   "outputs": [],
   "source": [
    "import numpy as np\n",
    "import pandas as pd\n",
    "import os\n",
    "import re\n",
    "import matplotlib.pyplot as plt\n",
    "import json\n",
    "import requests\n",
    "import bs4\n",
    "import ast"
   ]
  },
  {
   "cell_type": "markdown",
   "metadata": {},
   "source": [
    "# CisBP"
   ]
  },
  {
   "cell_type": "code",
   "execution_count": 19,
   "metadata": {},
   "outputs": [],
   "source": [
    "fp_cisbp = os.path.join('data', 'CisBP_C2H2_ZFs', 'PWM.txt')\n",
    "\n",
    "def CisBP_to_df(fp):\n",
    "    \"\"\"\n",
    "    fp: file path to desired file\n",
    "    \"\"\"\n",
    "    ZF_entries = open(fp).read().split('\\n\\n\\n')\n",
    "    ZF_entries = [ZF_entry.replace('\\t', ' ').split('\\n') for ZF_entry in ZF_entries]\n",
    "    ZF_entries = process_ZF_entries(ZF_entries)\n",
    "    \n",
    "    return pd.DataFrame(ZF_entries)\n",
    "\n",
    "def process_ZF_entries(ZF_entries):\n",
    "    output = []\n",
    "    for lst in ZF_entries:\n",
    "        temp = [elem.rpartition(' ') for elem in lst[:6]]\n",
    "        if len(temp) > 4:\n",
    "            del temp[4]\n",
    "        d = {}\n",
    "        for tup in temp:\n",
    "            d[tup[0]] = tup[2] # tup[1] is just a space\n",
    "        \n",
    "        PWM = lst[7:]\n",
    "        PWM = [column.partition(' ')[2] for column in PWM]\n",
    "        d['PWM'] = transpose_PWM(PWM)\n",
    "        \n",
    "        output.append(d)\n",
    "    return output\n",
    "\n",
    "def transpose_PWM(PWM):\n",
    "    rows = [row.split() for row in PWM]\n",
    "    transpose = [[0 for _ in range(len(PWM))] for _ in range(4)]\n",
    "    for i in range(4):\n",
    "        transpose[i] = [float(row[i]) for row in rows]\n",
    "    return np.array(transpose)\n",
    "\n",
    "def is_empty_PWM(PWM):\n",
    "    return PWM.tolist() != np.array([[],[],[],[]]).tolist()\n",
    "\n",
    "test = CisBP_to_df(fp_cisbp).drop(columns=['']).iloc[:-1]\n",
    "test['has_PWM'] = test['PWM'].apply(is_empty_PWM)\n",
    "cleaned_cisbp = test[test['has_PWM'] == True].drop(columns=['has_PWM'])"
   ]
  },
  {
   "cell_type": "markdown",
   "metadata": {},
   "source": [
    "### Merge CisBP with UniProt_ZF"
   ]
  },
  {
   "cell_type": "code",
   "execution_count": 128,
   "metadata": {},
   "outputs": [],
   "source": [
    "fp_new_uniprot_zf = os.path.join('data', 'Transcription Factors (UniProt).xlsx')\n",
    "uniprot_zf = pd.read_excel(fp_new_uniprot_zf)\n",
    "\n",
    "#fp_old_uniprot_zf = os.path.join('data', 'UniProt_ZF.csv')\n",
    "#uniprot_zf = pd.read_csv(open(fp_old_uniprot_zf)).drop(columns=['Unnamed: 0', 'DNA Binding Sequence (to be added)'])\n",
    "uniprot_zf = uniprot_zf.rename(columns={'Entry': 'UniProt ID'})\n",
    "uniprot_zf = uniprot_zf[uniprot_zf['Gene names'].notnull()]"
   ]
  },
  {
   "cell_type": "code",
   "execution_count": 123,
   "metadata": {},
   "outputs": [],
   "source": [
    "def uniprot_gene_names_contains(name):\n",
    "    \"\"\"\n",
    "    Match TF Name to Gene names (same column in both sheets)\n",
    "    \"\"\"\n",
    "    name = name.lower()\n",
    "    lst = []\n",
    "    for i, entry in enumerate(uniprot_zf['Gene names'].str.lower()):\n",
    "        if re.search('(^| )' + name + '($| )', entry) != None: \n",
    "            # the above is some regex. ^ means start of line, $ means end of line, | means or. \n",
    "            lst.append({'index': i, 'name': entry})\n",
    "            # index is the row index (access by iloc) in uniprot_zf to which the match corresponds\n",
    "    return lst"
   ]
  },
  {
   "cell_type": "code",
   "execution_count": 124,
   "metadata": {},
   "outputs": [],
   "source": [
    "cleaned_cisbp = cleaned_cisbp.assign(possible_match=cleaned_cisbp['TF Name'].apply(uniprot_gene_names_contains))\n",
    "cleaned_cisbp = cleaned_cisbp.assign(num_possible_match=cleaned_cisbp['possible_match'].apply(lambda l: len(l)))\n",
    "matched_cisbp = cleaned_cisbp[cleaned_cisbp['num_possible_match'] != 0]"
   ]
  },
  {
   "cell_type": "code",
   "execution_count": 125,
   "metadata": {},
   "outputs": [],
   "source": [
    "def filter_by_organism(ser):\n",
    "    \"\"\"\n",
    "    Run new_df = matched_cisbp.apply(filter_by_organism), which should take the list in possible_match and \n",
    "    eliminate entries that correspond to a TF that doesn't belong to the Species column in matched_cisbp\n",
    "    \"\"\"\n",
    "    lst = ser['possible_match']\n",
    "    true_species = ser['Species'].replace('_', ' ')\n",
    "    species_matches = []\n",
    "    if len(lst) > 1:\n",
    "        for d in lst:\n",
    "            if true_species in uniprot_zf.iloc[d['index']]['Organism']: # works for both sheets\n",
    "                species_matches.append(d)\n",
    "        return species_matches\n",
    "    elif len(lst) == 1:\n",
    "        return lst\n",
    "    else:\n",
    "        return np.NaN\n",
    "    \n",
    "def filter_match(organism_match):\n",
    "    \"\"\"\n",
    "    organism_match: a list in column organism_match\n",
    "    use as matched_cisbp['sequence'] = matched_cisbp['organism_match'].apply(filter_match)\n",
    "    \"\"\"\n",
    "    if len(organism_match) == 1:\n",
    "        return uniprot_zf.iloc[organism_match[0]['index']]['Sequence']\n",
    "    else:\n",
    "        return np.NaN\n",
    "    \n",
    "def get_uniprot_id(organism_match):\n",
    "    if len(organism_match) == 1:\n",
    "        return uniprot_zf.iloc[organism_match[0]['index']]['UniProt ID']\n",
    "    else:\n",
    "        return np.NaN\n",
    "    \n",
    "def get_zinc_fingers(organism_match):\n",
    "    if len(organism_match) == 1:\n",
    "        return uniprot_zf.iloc[organism_match[0]['index']]['Zinc finger']\n",
    "    else:\n",
    "        return np.NaN"
   ]
  },
  {
   "cell_type": "code",
   "execution_count": 130,
   "metadata": {},
   "outputs": [],
   "source": [
    "organism_match = matched_cisbp.apply(filter_by_organism, axis=1)\n",
    "matched_cisbp = matched_cisbp.assign(organism_match=organism_match)\n",
    "matched_cisbp = matched_cisbp.assign(num_organism_match=matched_cisbp['organism_match'].apply(len))\n",
    "matched_cisbp['Sequence'] = matched_cisbp['organism_match'].apply(filter_match)\n",
    "matched_cisbp['UniProt ID'] = matched_cisbp['organism_match'].apply(get_uniprot_id)\n",
    "matched_cisbp['Zinc Fingers'] = matched_cisbp['organism_match'].apply(get_zinc_fingers)"
   ]
  },
  {
   "cell_type": "code",
   "execution_count": 131,
   "metadata": {},
   "outputs": [
    {
     "name": "stdout",
     "output_type": "stream",
     "text": [
      "<class 'pandas.core.frame.DataFrame'>\n",
      "Int64Index: 1496 entries, 0 to 2101\n",
      "Data columns (total 13 columns):\n",
      " #   Column              Non-Null Count  Dtype \n",
      "---  ------              --------------  ----- \n",
      " 0   TF                  1496 non-null   object\n",
      " 1   TF Name             1496 non-null   object\n",
      " 2   Gene                1496 non-null   object\n",
      " 3   Motif               1496 non-null   object\n",
      " 4   Species             1496 non-null   object\n",
      " 5   PWM                 1496 non-null   object\n",
      " 6   possible_match      1496 non-null   object\n",
      " 7   num_possible_match  1496 non-null   int64 \n",
      " 8   organism_match      1496 non-null   object\n",
      " 9   num_organism_match  1496 non-null   int64 \n",
      " 10  Sequence            1445 non-null   object\n",
      " 11  UniProt ID          1445 non-null   object\n",
      " 12  Zinc Fingers        1418 non-null   object\n",
      "dtypes: int64(2), object(11)\n",
      "memory usage: 163.6+ KB\n"
     ]
    }
   ],
   "source": [
    "matched_cisbp.info()"
   ]
  },
  {
   "cell_type": "code",
   "execution_count": 137,
   "metadata": {},
   "outputs": [],
   "source": [
    "final_cisbp = matched_cisbp.drop(columns=\n",
    "                                 ['TF',\n",
    "                                  'TF Name',\n",
    "                                  'Gene',\n",
    "                                  'Motif',\n",
    "                                  'Species',\n",
    "                                  'possible_match',\n",
    "                                  'num_possible_match',\n",
    "                                  'organism_match',\n",
    "                                  'num_organism_match',\n",
    "                                 ])\n",
    "final_cisbp = final_cisbp.dropna()"
   ]
  },
  {
   "cell_type": "code",
   "execution_count": 206,
   "metadata": {},
   "outputs": [
    {
     "data": {
      "text/html": [
       "<div>\n",
       "<style scoped>\n",
       "    .dataframe tbody tr th:only-of-type {\n",
       "        vertical-align: middle;\n",
       "    }\n",
       "\n",
       "    .dataframe tbody tr th {\n",
       "        vertical-align: top;\n",
       "    }\n",
       "\n",
       "    .dataframe thead th {\n",
       "        text-align: right;\n",
       "    }\n",
       "</style>\n",
       "<table border=\"1\" class=\"dataframe\">\n",
       "  <thead>\n",
       "    <tr style=\"text-align: right;\">\n",
       "      <th></th>\n",
       "      <th>PWM</th>\n",
       "      <th>Sequence</th>\n",
       "      <th>UniProt ID</th>\n",
       "      <th>Zinc Fingers</th>\n",
       "    </tr>\n",
       "  </thead>\n",
       "  <tbody>\n",
       "    <tr>\n",
       "      <th>0</th>\n",
       "      <td>[[0.252066, 0.252066, 0.247934, 0.297521, 0.23...</td>\n",
       "      <td>MSSSYNTIALSSTPTFLLSSAAAGPGPNNFNRQEAAMTMVQQQPTS...</td>\n",
       "      <td>Q8RWX7</td>\n",
       "      <td>ZN_FING 82..104;  /note=\"C2H2-type 1\";  /evide...</td>\n",
       "    </tr>\n",
       "    <tr>\n",
       "      <th>1</th>\n",
       "      <td>[[0.308219, 0.25, 0.155822, 0.018836, 0.001712...</td>\n",
       "      <td>MSSSYNTIALSSTPTFLLSSAAAGPGPNNFNRQEAAMTMVQQQPTS...</td>\n",
       "      <td>Q8RWX7</td>\n",
       "      <td>ZN_FING 82..104;  /note=\"C2H2-type 1\";  /evide...</td>\n",
       "    </tr>\n",
       "    <tr>\n",
       "      <th>6</th>\n",
       "      <td>[[0.228068372140331, 0.23744515722474, 0.24613...</td>\n",
       "      <td>MKRDRSDYEESMKHIDIVESLMMLSRSFVVKQIDVKQSTGSKTNHN...</td>\n",
       "      <td>Q9LFG0</td>\n",
       "      <td>ZN_FING 49..71;  /note=\"C2H2-type 1\";  /eviden...</td>\n",
       "    </tr>\n",
       "    <tr>\n",
       "      <th>7</th>\n",
       "      <td>[[0.251653695069885, 0.289423275127517, 0.1584...</td>\n",
       "      <td>MKRDRSDYEESMKHIDIVESLMMLSRSFVVKQIDVKQSTGSKTNHN...</td>\n",
       "      <td>Q9LFG0</td>\n",
       "      <td>ZN_FING 49..71;  /note=\"C2H2-type 1\";  /eviden...</td>\n",
       "    </tr>\n",
       "    <tr>\n",
       "      <th>13</th>\n",
       "      <td>[[0.221000068580147, 0.674606681428864, 0.0003...</td>\n",
       "      <td>MALETLNSPTATTTARPLLRYREEMEPENLEQWAKRKRTKRQRFDH...</td>\n",
       "      <td>Q9SSW1</td>\n",
       "      <td>ZN_FING 97..119;  /note=\"C2H2-type 1\";  /evide...</td>\n",
       "    </tr>\n",
       "  </tbody>\n",
       "</table>\n",
       "</div>"
      ],
      "text/plain": [
       "                                                  PWM  \\\n",
       "0   [[0.252066, 0.252066, 0.247934, 0.297521, 0.23...   \n",
       "1   [[0.308219, 0.25, 0.155822, 0.018836, 0.001712...   \n",
       "6   [[0.228068372140331, 0.23744515722474, 0.24613...   \n",
       "7   [[0.251653695069885, 0.289423275127517, 0.1584...   \n",
       "13  [[0.221000068580147, 0.674606681428864, 0.0003...   \n",
       "\n",
       "                                             Sequence UniProt ID  \\\n",
       "0   MSSSYNTIALSSTPTFLLSSAAAGPGPNNFNRQEAAMTMVQQQPTS...     Q8RWX7   \n",
       "1   MSSSYNTIALSSTPTFLLSSAAAGPGPNNFNRQEAAMTMVQQQPTS...     Q8RWX7   \n",
       "6   MKRDRSDYEESMKHIDIVESLMMLSRSFVVKQIDVKQSTGSKTNHN...     Q9LFG0   \n",
       "7   MKRDRSDYEESMKHIDIVESLMMLSRSFVVKQIDVKQSTGSKTNHN...     Q9LFG0   \n",
       "13  MALETLNSPTATTTARPLLRYREEMEPENLEQWAKRKRTKRQRFDH...     Q9SSW1   \n",
       "\n",
       "                                         Zinc Fingers  \n",
       "0   ZN_FING 82..104;  /note=\"C2H2-type 1\";  /evide...  \n",
       "1   ZN_FING 82..104;  /note=\"C2H2-type 1\";  /evide...  \n",
       "6   ZN_FING 49..71;  /note=\"C2H2-type 1\";  /eviden...  \n",
       "7   ZN_FING 49..71;  /note=\"C2H2-type 1\";  /eviden...  \n",
       "13  ZN_FING 97..119;  /note=\"C2H2-type 1\";  /evide...  "
      ]
     },
     "execution_count": 206,
     "metadata": {},
     "output_type": "execute_result"
    }
   ],
   "source": [
    "final_cisbp.head()"
   ]
  },
  {
   "cell_type": "code",
   "execution_count": 170,
   "metadata": {},
   "outputs": [
    {
     "data": {
      "text/plain": [
       "590"
      ]
     },
     "execution_count": 170,
     "metadata": {},
     "output_type": "execute_result"
    }
   ],
   "source": [
    "final_cisbp['Sequence'].nunique()"
   ]
  },
  {
   "cell_type": "markdown",
   "metadata": {},
   "source": [
    "# FlyFactorSurvey"
   ]
  },
  {
   "cell_type": "code",
   "execution_count": 248,
   "metadata": {},
   "outputs": [],
   "source": [
    "fpB = os.path.join('FFS_data', 'PWMfreq_DatasetB.txt')\n",
    "fhB = open(fpB)\n",
    "fhB_lst = (fhB.read()\n",
    "           .replace('A |', '').replace('C |', '').replace('G |', '').replace('T |', '')\n",
    "           .replace('\\t', ' ').split('\\n'))[1:-1]\n",
    "\n",
    "for i in range(len(fhB_lst)):\n",
    "    if i % 5 == 0:\n",
    "        fhB_lst[i] = fhB_lst[i][1:]\n",
    "    else:\n",
    "        row = fhB_lst[i].strip().split()\n",
    "        fhB_lst[i] = [int(elem) for elem in row]\n",
    "\n",
    "chunks = [fhB_lst[i:(i+5)] for i in range(0, len(fhB_lst), 5)]\n",
    "chunks = [[lst[0], [lst[1], lst[2], lst[3], lst[4]]] for lst in chunks]\n",
    "data = []\n",
    "for chunk in chunks:\n",
    "    data.append({'temp_ID': chunk[0],\n",
    "                 'PFM': chunk[1]})\n",
    "    \n",
    "FFS_PWMs = pd.DataFrame(data)\n",
    "FFS_PWMs['Flybase_ID'] = FFS_PWMs['temp_ID'].apply(lambda id: id.rpartition('_')[2])\n",
    "\n",
    "def scrape_page(page, data):\n",
    "    \"\"\"\n",
    "    page: page being scraped\n",
    "    data: add Flybase_ID, Uniprot_ID, and Domain here\n",
    "    \"\"\"\n",
    "    page_text = requests.get(page).text\n",
    "    page_important_soup = bs4.BeautifulSoup(page_text).find('tbody')\n",
    "    page_results = page_important_soup.find_all('tr')\n",
    "    for entry in page_results:\n",
    "        Flybase_ID = entry.contents[1].contents[0].contents[0].strip()\n",
    "        Uniprot_ID = entry.contents[3].contents[0].contents[0].strip()\n",
    "        Domain = entry.contents[5].contents[0].strip()\n",
    "        if Domain in ['zf-C2H2', 'zf-C4', 'zf-C2HC', 'zf-C3HC4', 'zf-FCS', 'zf-NF-X1']:\n",
    "            data.append({'Flybase_ID': Flybase_ID,\n",
    "                         'Uniprot_ID': Uniprot_ID,\n",
    "                         'Domain': Domain})\n",
    "            \n",
    "data = []\n",
    "for i in range(1, 8):\n",
    "    scrape_page(f'https://mccb.umassmed.edu/ffs/BrowseData.php?PWM=1&page={i}', data)"
   ]
  },
  {
   "cell_type": "markdown",
   "metadata": {},
   "source": [
    "### Merge FFS with UniProt_ZF"
   ]
  },
  {
   "cell_type": "code",
   "execution_count": 249,
   "metadata": {},
   "outputs": [],
   "source": [
    "FFS_ZFs = pd.DataFrame(data)\n",
    "FFS_duplicates = FFS_ZFs.merge(FFS_PWMs, on='Flybase_ID')\n",
    "\n",
    "test_FFS = FFS_duplicates.merge(uniprot_zf, left_on = 'Uniprot_ID', right_on='UniProt ID', how='left')"
   ]
  },
  {
   "cell_type": "code",
   "execution_count": 250,
   "metadata": {},
   "outputs": [],
   "source": [
    "final_FFS = (test_FFS.drop(columns=['Flybase_ID', \n",
    "                                   'Uniprot_ID',\n",
    "                                   'Domain', \n",
    "                                   'temp_ID', \n",
    "                                   'Entry name', \n",
    "                                   'Status', \n",
    "                                   'Protein names', \n",
    "                                   'Gene names', \n",
    "                                   'Organism',\n",
    "                                   'Length'])\n",
    "             .dropna()\n",
    "             .rename(columns={'PFM': 'PWM',\n",
    "                              'Zinc finger': 'Zinc Fingers'})\n",
    "            )\n",
    "final_FFS['PWM'] = final_FFS['PWM'].apply(lambda l: np.array(l))"
   ]
  },
  {
   "cell_type": "code",
   "execution_count": 251,
   "metadata": {},
   "outputs": [
    {
     "data": {
      "text/html": [
       "<div>\n",
       "<style scoped>\n",
       "    .dataframe tbody tr th:only-of-type {\n",
       "        vertical-align: middle;\n",
       "    }\n",
       "\n",
       "    .dataframe tbody tr th {\n",
       "        vertical-align: top;\n",
       "    }\n",
       "\n",
       "    .dataframe thead th {\n",
       "        text-align: right;\n",
       "    }\n",
       "</style>\n",
       "<table border=\"1\" class=\"dataframe\">\n",
       "  <thead>\n",
       "    <tr style=\"text-align: right;\">\n",
       "      <th></th>\n",
       "      <th>PWM</th>\n",
       "      <th>UniProt ID</th>\n",
       "      <th>Sequence</th>\n",
       "      <th>Zinc Fingers</th>\n",
       "    </tr>\n",
       "  </thead>\n",
       "  <tbody>\n",
       "    <tr>\n",
       "      <th>0</th>\n",
       "      <td>[[0, 10, 4, 7, 0, 0, 20, 0, 0, 11, 7, 1, 4, 9,...</td>\n",
       "      <td>Q24174</td>\n",
       "      <td>MTESTQLQTAENNNAGVVKMEPPPPATSSVSVSAAAAAHALSSLSS...</td>\n",
       "      <td>ZN_FING 544..567;  /note=\"C2H2-type 1\";  /evid...</td>\n",
       "    </tr>\n",
       "    <tr>\n",
       "      <th>1</th>\n",
       "      <td>[[131, 133, 112, 90, 148, 102, 190, 1, 0, 449,...</td>\n",
       "      <td>Q24174</td>\n",
       "      <td>MTESTQLQTAENNNAGVVKMEPPPPATSSVSVSAAAAAHALSSLSS...</td>\n",
       "      <td>ZN_FING 544..567;  /note=\"C2H2-type 1\";  /evid...</td>\n",
       "    </tr>\n",
       "    <tr>\n",
       "      <th>22</th>\n",
       "      <td>[[14, 10, 4, 2, 0, 0, 2, 0, 0, 15], [3, 0, 0, ...</td>\n",
       "      <td>Q24266</td>\n",
       "      <td>MIDAACNYLNPYAQQHQAQQQQHAQHQQHAQQQQHHLHMQQAQHHL...</td>\n",
       "      <td>ZN_FING 333..357;  /note=\"C2H2-type 1\";  /evid...</td>\n",
       "    </tr>\n",
       "    <tr>\n",
       "      <th>34</th>\n",
       "      <td>[[4, 4, 0, 0, 0, 1, 0, 0, 0, 0, 0], [1, 0, 0, ...</td>\n",
       "      <td>Q9VZN4</td>\n",
       "      <td>MHTDIIIGDQFAANNNYWVMQSPELDYRHELMGRLHKIEPADVELE...</td>\n",
       "      <td>ZN_FING 664..688;  /note=\"C2H2-type 1\";  /evid...</td>\n",
       "    </tr>\n",
       "    <tr>\n",
       "      <th>35</th>\n",
       "      <td>[[200, 248, 259, 60, 9, 10, 97, 9, 11, 12, 9, ...</td>\n",
       "      <td>Q9VZN4</td>\n",
       "      <td>MHTDIIIGDQFAANNNYWVMQSPELDYRHELMGRLHKIEPADVELE...</td>\n",
       "      <td>ZN_FING 664..688;  /note=\"C2H2-type 1\";  /evid...</td>\n",
       "    </tr>\n",
       "  </tbody>\n",
       "</table>\n",
       "</div>"
      ],
      "text/plain": [
       "                                                  PWM UniProt ID  \\\n",
       "0   [[0, 10, 4, 7, 0, 0, 20, 0, 0, 11, 7, 1, 4, 9,...     Q24174   \n",
       "1   [[131, 133, 112, 90, 148, 102, 190, 1, 0, 449,...     Q24174   \n",
       "22  [[14, 10, 4, 2, 0, 0, 2, 0, 0, 15], [3, 0, 0, ...     Q24266   \n",
       "34  [[4, 4, 0, 0, 0, 1, 0, 0, 0, 0, 0], [1, 0, 0, ...     Q9VZN4   \n",
       "35  [[200, 248, 259, 60, 9, 10, 97, 9, 11, 12, 9, ...     Q9VZN4   \n",
       "\n",
       "                                             Sequence  \\\n",
       "0   MTESTQLQTAENNNAGVVKMEPPPPATSSVSVSAAAAAHALSSLSS...   \n",
       "1   MTESTQLQTAENNNAGVVKMEPPPPATSSVSVSAAAAAHALSSLSS...   \n",
       "22  MIDAACNYLNPYAQQHQAQQQQHAQHQQHAQQQQHHLHMQQAQHHL...   \n",
       "34  MHTDIIIGDQFAANNNYWVMQSPELDYRHELMGRLHKIEPADVELE...   \n",
       "35  MHTDIIIGDQFAANNNYWVMQSPELDYRHELMGRLHKIEPADVELE...   \n",
       "\n",
       "                                         Zinc Fingers  \n",
       "0   ZN_FING 544..567;  /note=\"C2H2-type 1\";  /evid...  \n",
       "1   ZN_FING 544..567;  /note=\"C2H2-type 1\";  /evid...  \n",
       "22  ZN_FING 333..357;  /note=\"C2H2-type 1\";  /evid...  \n",
       "34  ZN_FING 664..688;  /note=\"C2H2-type 1\";  /evid...  \n",
       "35  ZN_FING 664..688;  /note=\"C2H2-type 1\";  /evid...  "
      ]
     },
     "execution_count": 251,
     "metadata": {},
     "output_type": "execute_result"
    }
   ],
   "source": [
    "final_FFS.head()"
   ]
  },
  {
   "cell_type": "markdown",
   "metadata": {},
   "source": [
    "# JASPAR"
   ]
  },
  {
   "cell_type": "code",
   "execution_count": 191,
   "metadata": {},
   "outputs": [
    {
     "data": {
      "text/html": [
       "<div>\n",
       "<style scoped>\n",
       "    .dataframe tbody tr th:only-of-type {\n",
       "        vertical-align: middle;\n",
       "    }\n",
       "\n",
       "    .dataframe tbody tr th {\n",
       "        vertical-align: top;\n",
       "    }\n",
       "\n",
       "    .dataframe thead th {\n",
       "        text-align: right;\n",
       "    }\n",
       "</style>\n",
       "<table border=\"1\" class=\"dataframe\">\n",
       "  <thead>\n",
       "    <tr style=\"text-align: right;\">\n",
       "      <th></th>\n",
       "      <th>UniProt ID</th>\n",
       "      <th>PWM</th>\n",
       "      <th>Zinc Fingers</th>\n",
       "      <th>Sequence</th>\n",
       "    </tr>\n",
       "  </thead>\n",
       "  <tbody>\n",
       "    <tr>\n",
       "      <th>0</th>\n",
       "      <td>A0A090M8Q1</td>\n",
       "      <td>{'A': [0.06913827655310621, 0.1122244488977955...</td>\n",
       "      <td>NaN</td>\n",
       "      <td>NaN</td>\n",
       "    </tr>\n",
       "    <tr>\n",
       "      <th>1</th>\n",
       "      <td>A0PJY2</td>\n",
       "      <td>{'A': [0.31590672805584435, 0.2548641021832764...</td>\n",
       "      <td>FTCEVCGKVFNAHYNLTRHMPVH, FVCKVCGKGFRQASTLCRHKI...</td>\n",
       "      <td>MDSSCHNATTKMLATAPARGNMMSTSKPLAFSIERIMARTPEPKAL...</td>\n",
       "    </tr>\n",
       "    <tr>\n",
       "      <th>2</th>\n",
       "      <td>A1YPR0</td>\n",
       "      <td>{'A': [0.26745329400196655, 0.1199213630406291...</td>\n",
       "      <td>QQCPICHKVIMGAGKLPRHMRTH, YMCTICEVRFTRQDKLKIHMR...</td>\n",
       "      <td>MANDIDELIGIPFPNHSSEVLCSLNEQRHDGLLCDVLLVVQEQEYR...</td>\n",
       "    </tr>\n",
       "    <tr>\n",
       "      <th>3</th>\n",
       "      <td>A4QPC8</td>\n",
       "      <td>{'A': [0.5185185185185185, 0.7407407407407407,...</td>\n",
       "      <td>NaN</td>\n",
       "      <td>NaN</td>\n",
       "    </tr>\n",
       "    <tr>\n",
       "      <th>4</th>\n",
       "      <td>A6NFI3</td>\n",
       "      <td>{'A': [0.310132678743436, 0.4766802349066277, ...</td>\n",
       "      <td>TTCDVCGKVFPHRSRLAKHQRYH, FGCEECGKGFVYRSHLAIHQR...</td>\n",
       "      <td>MAALHTTPDSPAAQLERAEDGSECDPDQEEEEEEEEKGEEVQEVEE...</td>\n",
       "    </tr>\n",
       "  </tbody>\n",
       "</table>\n",
       "</div>"
      ],
      "text/plain": [
       "   UniProt ID                                                PWM  \\\n",
       "0  A0A090M8Q1  {'A': [0.06913827655310621, 0.1122244488977955...   \n",
       "1      A0PJY2  {'A': [0.31590672805584435, 0.2548641021832764...   \n",
       "2      A1YPR0  {'A': [0.26745329400196655, 0.1199213630406291...   \n",
       "3      A4QPC8  {'A': [0.5185185185185185, 0.7407407407407407,...   \n",
       "4      A6NFI3  {'A': [0.310132678743436, 0.4766802349066277, ...   \n",
       "\n",
       "                                        Zinc Fingers  \\\n",
       "0                                                NaN   \n",
       "1  FTCEVCGKVFNAHYNLTRHMPVH, FVCKVCGKGFRQASTLCRHKI...   \n",
       "2  QQCPICHKVIMGAGKLPRHMRTH, YMCTICEVRFTRQDKLKIHMR...   \n",
       "3                                                NaN   \n",
       "4  TTCDVCGKVFPHRSRLAKHQRYH, FGCEECGKGFVYRSHLAIHQR...   \n",
       "\n",
       "                                            Sequence  \n",
       "0                                                NaN  \n",
       "1  MDSSCHNATTKMLATAPARGNMMSTSKPLAFSIERIMARTPEPKAL...  \n",
       "2  MANDIDELIGIPFPNHSSEVLCSLNEQRHDGLLCDVLLVVQEQEYR...  \n",
       "3                                                NaN  \n",
       "4  MAALHTTPDSPAAQLERAEDGSECDPDQEEEEEEEEKGEEVQEVEE...  "
      ]
     },
     "execution_count": 191,
     "metadata": {},
     "output_type": "execute_result"
    }
   ],
   "source": [
    "fp_jaspar = os.path.join('data', 'JASPAR_data.csv')\n",
    "JASPAR_data = pd.read_csv(fp_jaspar)\n",
    "JASPAR_data = (JASPAR_data.drop(columns=['Unnamed: ' + str(i) for i in range(8, 23)])\n",
    "              .drop(columns=['Unnamed: 0',\n",
    "                             'Gene Name',\n",
    "                             'Base_ID',\n",
    "                             'Matrix_ID'])\n",
    "              .rename(columns={'Uniprot_IDs': 'UniProt ID',\n",
    "                               'zfn_sequence': 'Zinc Fingers',\n",
    "                               'sequence': 'Sequence'})\n",
    "              )\n",
    "JASPAR_data.head()"
   ]
  },
  {
   "cell_type": "code",
   "execution_count": 204,
   "metadata": {},
   "outputs": [],
   "source": [
    "def str_to_arr(s):\n",
    "    \"\"\"\n",
    "    s: contains the PWM_dict as contents\n",
    "    \"\"\"\n",
    "    lst = []\n",
    "    PWM_dict = ast.literal_eval(s)\n",
    "    lst.append(PWM_dict['A'])\n",
    "    lst.append(PWM_dict['C'])\n",
    "    lst.append(PWM_dict['G'])\n",
    "    lst.append(PWM_dict['T'])\n",
    "    return np.array(lst)"
   ]
  },
  {
   "cell_type": "code",
   "execution_count": 209,
   "metadata": {},
   "outputs": [],
   "source": [
    "JASPAR_data['PWM'] = JASPAR_data['PWM'].apply(str_to_arr)"
   ]
  },
  {
   "cell_type": "code",
   "execution_count": 212,
   "metadata": {},
   "outputs": [],
   "source": [
    "JASPAR_final = JASPAR_data.dropna()"
   ]
  },
  {
   "cell_type": "code",
   "execution_count": 214,
   "metadata": {},
   "outputs": [
    {
     "name": "stdout",
     "output_type": "stream",
     "text": [
      "<class 'pandas.core.frame.DataFrame'>\n",
      "Int64Index: 377 entries, 1 to 415\n",
      "Data columns (total 4 columns):\n",
      " #   Column        Non-Null Count  Dtype \n",
      "---  ------        --------------  ----- \n",
      " 0   UniProt ID    377 non-null    object\n",
      " 1   PWM           377 non-null    object\n",
      " 2   Zinc Fingers  377 non-null    object\n",
      " 3   Sequence      377 non-null    object\n",
      "dtypes: object(4)\n",
      "memory usage: 14.7+ KB\n"
     ]
    }
   ],
   "source": [
    "JASPAR_final.info()"
   ]
  },
  {
   "cell_type": "markdown",
   "metadata": {},
   "source": [
    "# Persikov"
   ]
  },
  {
   "cell_type": "code",
   "execution_count": 216,
   "metadata": {},
   "outputs": [],
   "source": [
    "fp_persikov = os.path.join('data', 'Persikov 2009-14', 'database.txt')\n",
    "\n",
    "data = []\n",
    "for line in open(fp_persikov):\n",
    "    lst_of_lsts = [entry.split('=') for entry in line.split()]\n",
    "    temp = {}\n",
    "    for lst in lst_of_lsts:\n",
    "        temp[lst[0]] = lst[1]\n",
    "    temp_keys = temp.keys()\n",
    "    data.append(temp)\n",
    "\n",
    "zf_df = pd.DataFrame(data)"
   ]
  },
  {
   "cell_type": "code",
   "execution_count": 217,
   "metadata": {},
   "outputs": [
    {
     "name": "stdout",
     "output_type": "stream",
     "text": [
      "<class 'pandas.core.frame.DataFrame'>\n",
      "RangeIndex: 4083 entries, 0 to 4082\n",
      "Data columns (total 20 columns):\n",
      " #   Column  Non-Null Count  Dtype \n",
      "---  ------  --------------  ----- \n",
      " 0   source  4083 non-null   object\n",
      " 1   dna     4083 non-null   object\n",
      " 2   zf      4083 non-null   object\n",
      " 3   f1      4083 non-null   object\n",
      " 4   f2      4083 non-null   object\n",
      " 5   f3      4062 non-null   object\n",
      " 6   ex      4083 non-null   object\n",
      " 7   Kd      660 non-null    object\n",
      " 8   dna2    959 non-null    object\n",
      " 9   f4      15 non-null     object\n",
      " 10  f5      15 non-null     object\n",
      " 11  f6      15 non-null     object\n",
      " 12  KdSd    192 non-null    object\n",
      " 13  Ka      320 non-null    object\n",
      " 14  KaSd    124 non-null    object\n",
      " 15  f12     42 non-null     object\n",
      " 16  f22     42 non-null     object\n",
      " 17  f32     42 non-null     object\n",
      " 18  cs      16 non-null     object\n",
      " 19  lbl     8 non-null      object\n",
      "dtypes: object(20)\n",
      "memory usage: 638.1+ KB\n"
     ]
    }
   ],
   "source": [
    "zf_df.info()"
   ]
  },
  {
   "cell_type": "code",
   "execution_count": null,
   "metadata": {},
   "outputs": [],
   "source": [
    "(zf_df[(zf_df['f12'].isnull()) & \n",
    "       (zf_df['f22'].isnull()) & \n",
    "       (zf_df['f32'].isnull()) & \n",
    "       (zf_df['cs'].isnull()) & \n",
    "       (zf_df['lbl'].isnull())]\n",
    " .drop(columns=['f12', \n",
    "                'f22', \n",
    "                'f32',\n",
    "                'cs',\n",
    "                'lbl'])\n",
    ")"
   ]
  },
  {
   "cell_type": "markdown",
   "metadata": {},
   "source": [
    "## Remaining questions about handling Persikov's database\n",
    "1) How should Kd and the other additional columns be handled?\n",
    "\n",
    "2) Should we identify different proteins by their zinc fingers? (start of implementation: combine f1, f2, f3 into a single column?)\n",
    "\n",
    "3) UniProt IDs may not serve as a practical identifier because Persikov did not include them. Instead, a better identifier could to assign 1,2,3... to each unique sequence. However, we first need to figure out the sequence... which requires looking for the scaffolds."
   ]
  },
  {
   "cell_type": "code",
   "execution_count": null,
   "metadata": {},
   "outputs": [],
   "source": []
  },
  {
   "cell_type": "markdown",
   "metadata": {},
   "source": [
    "# Experimental Designs"
   ]
  },
  {
   "cell_type": "code",
   "execution_count": 326,
   "metadata": {},
   "outputs": [],
   "source": [
    "fp_exp = os.path.join('data', 'experimental_designs.csv')\n",
    "raw_exp = pd.read_csv(fp_exp).drop(columns=[\"Nathan: Place ZF designs mined from literature or lookup tables here. Include the path to the sequence file within this folder, and as much information as possible. If it might be relevant, include it somewhere; we can trim off what isn't needed later. Feel free to add more columns if you think of relevant features that we should include\"])\n",
    "raw_exp.columns = raw_exp.iloc[0]\n",
    "raw_exp = raw_exp.iloc[1:].drop(columns=['Identifier', 'ACTIVITY', '# of Fingers', 'LINKER'])\n",
    "raw_exp = raw_exp.drop([68,69]).loc[:89]"
   ]
  },
  {
   "cell_type": "code",
   "execution_count": 328,
   "metadata": {},
   "outputs": [
    {
     "name": "stdout",
     "output_type": "stream",
     "text": [
      "<class 'pandas.core.frame.DataFrame'>\n",
      "Int64Index: 87 entries, 1 to 89\n",
      "Data columns (total 5 columns):\n",
      " #   Column        Non-Null Count  Dtype \n",
      "---  ------        --------------  ----- \n",
      " 0   Source        86 non-null     object\n",
      " 1   TARGET        86 non-null     object\n",
      " 2   Sequence      86 non-null     object\n",
      " 3   Zinc Fingers  65 non-null     object\n",
      " 4   COMMENTS      63 non-null     object\n",
      "dtypes: object(5)\n",
      "memory usage: 4.1+ KB\n"
     ]
    }
   ],
   "source": [
    "raw_exp.info()"
   ]
  },
  {
   "cell_type": "code",
   "execution_count": 378,
   "metadata": {},
   "outputs": [],
   "source": [
    "raw_exp = raw_exp.drop(columns=['Source', 'COMMENTS']).rename(columns={'TARGET': 'temp_DNA'})"
   ]
  },
  {
   "cell_type": "code",
   "execution_count": 384,
   "metadata": {},
   "outputs": [],
   "source": [
    "raw_exp['PWM'] = raw_exp['temp_DNA'].apply(to_PWM)"
   ]
  },
  {
   "cell_type": "code",
   "execution_count": 387,
   "metadata": {},
   "outputs": [],
   "source": [
    "final_exp = raw_exp.drop(columns=['temp_DNA'])"
   ]
  },
  {
   "cell_type": "code",
   "execution_count": 389,
   "metadata": {},
   "outputs": [
    {
     "name": "stdout",
     "output_type": "stream",
     "text": [
      "<class 'pandas.core.frame.DataFrame'>\n",
      "Int64Index: 87 entries, 1 to 89\n",
      "Data columns (total 3 columns):\n",
      " #   Column        Non-Null Count  Dtype \n",
      "---  ------        --------------  ----- \n",
      " 0   Sequence      86 non-null     object\n",
      " 1   Zinc Fingers  65 non-null     object\n",
      " 2   PWM           87 non-null     object\n",
      "dtypes: object(3)\n",
      "memory usage: 2.7+ KB\n"
     ]
    }
   ],
   "source": [
    "final_exp.info()"
   ]
  },
  {
   "cell_type": "markdown",
   "metadata": {},
   "source": [
    "### Notes\n",
    "\n",
    "- I haven't included all of the data mined from literature yet (probably only less than a third)\n",
    "- Some rows from Database_ZF Designs may need to be dropped"
   ]
  },
  {
   "cell_type": "code",
   "execution_count": null,
   "metadata": {},
   "outputs": [],
   "source": []
  },
  {
   "cell_type": "code",
   "execution_count": null,
   "metadata": {},
   "outputs": [],
   "source": []
  },
  {
   "cell_type": "code",
   "execution_count": null,
   "metadata": {},
   "outputs": [],
   "source": []
  },
  {
   "cell_type": "markdown",
   "metadata": {},
   "source": [
    "# Combining the datasets"
   ]
  },
  {
   "cell_type": "code",
   "execution_count": 288,
   "metadata": {},
   "outputs": [],
   "source": [
    "def PFM_to_PWM(PFM):\n",
    "    \"\"\"\n",
    "    For turning PFMs into PWMs (assume that input is an np.array and that output should be an np.array).\n",
    "    \"\"\"\n",
    "    if (len(PFM[0]) != len(PFM[1]) | len(PFM[1]) != len(PFM[2]) | len(PFM[2]) != len(PFM[3])):\n",
    "        print(PFM, ' is a malformed matrix.')\n",
    "        return None\n",
    "    \n",
    "    width = len(PFM[0]) \n",
    "    out = [[], [], [], []]\n",
    "    for i in range(width):\n",
    "        column_sum = 0 \n",
    "        for letter in range(4):\n",
    "            column_sum += PFM[letter][i]\n",
    "        for letter in range(4):\n",
    "            out[letter].append(PFM[letter][i] / column_sum)\n",
    "    return np.array(out)"
   ]
  },
  {
   "cell_type": "code",
   "execution_count": 352,
   "metadata": {},
   "outputs": [],
   "source": [
    "#make function for turning PWMs in np.array format into dictionary format (for portability), \n",
    "def PWM_to_dict(PWM):\n",
    "    d = {}\n",
    "    d['A'] = PWM[0].tolist()\n",
    "    d['C'] = PWM[1].tolist()\n",
    "    d['G'] = PWM[2].tolist()\n",
    "    d['T'] = PWM[3].tolist()\n",
    "    return d"
   ]
  },
  {
   "cell_type": "code",
   "execution_count": 362,
   "metadata": {},
   "outputs": [],
   "source": [
    "def dictstr_to_PWM(dictstr):\n",
    "    \"\"\"\n",
    "    Kind of redundant, but I wanted to give str_to_arr a better name because symmetry.\n",
    "    \"\"\"\n",
    "    return str_to_arr(str(dictstr))"
   ]
  },
  {
   "cell_type": "code",
   "execution_count": 381,
   "metadata": {},
   "outputs": [],
   "source": [
    "def to_PWM(seq):\n",
    "    \"\"\"\n",
    "    seq: a sequence of ACGT or acgt\n",
    "    Transforms s from a string to a PWM; rows are in order ACGT\n",
    "    \"\"\"\n",
    "    if type(seq) != str:\n",
    "        return np.array([[],[],[],[]])\n",
    "    # temporarily, we will eliminate any letter that is not ACGTacgt\n",
    "    seq_len = len(seq)\n",
    "    temp = ''\n",
    "    for i in range(seq_len):\n",
    "        if seq[i] in ['A', 'a', 'C', 'c', 'G', 'g', 'T', 't']:\n",
    "            temp += seq[i]\n",
    "    \n",
    "    seq_len = len(temp)\n",
    "    output = [[0 for _ in range(seq_len)] for _ in range(4)]\n",
    "    for i in range(seq_len):\n",
    "        letter = seq[i]\n",
    "        if letter in ['A', 'a']: # how to handle uppercase and lowercase letters?\n",
    "            output[0][i] = 1\n",
    "        elif letter in ['C', 'c']:\n",
    "            output[1][i] = 1\n",
    "        elif letter in ['G', 'g']:\n",
    "            output[2][i] = 1\n",
    "        elif letter in ['T', 't']:\n",
    "            output[3][i] = 1\n",
    "        #else:\n",
    "            # print('Unexpected letter in ', seq)\n",
    "            # return np.NaN\n",
    "    return np.array(output)"
   ]
  },
  {
   "cell_type": "markdown",
   "metadata": {},
   "source": [
    "### List of datasets:\n",
    "1) final_cisbp\n",
    "2) final_FFS\n",
    "3) JASPAR_final (please remember to rename to final_JASPAR...)\n",
    "4) Persikov (to be held out until some form of identification for rows can be found)\n",
    "5) final_exp (see Persikov)"
   ]
  },
  {
   "cell_type": "code",
   "execution_count": 397,
   "metadata": {},
   "outputs": [],
   "source": [
    "final = JASPAR_final.append(final_cisbp.append(final_FFS, ignore_index=True), ignore_index=True)"
   ]
  },
  {
   "cell_type": "code",
   "execution_count": 398,
   "metadata": {},
   "outputs": [],
   "source": [
    "final.to_excel('current_standardized_data.xlsx')"
   ]
  },
  {
   "cell_type": "code",
   "execution_count": null,
   "metadata": {},
   "outputs": [],
   "source": []
  },
  {
   "cell_type": "code",
   "execution_count": null,
   "metadata": {},
   "outputs": [],
   "source": []
  },
  {
   "cell_type": "code",
   "execution_count": 396,
   "metadata": {},
   "outputs": [
    {
     "data": {
      "text/plain": [
       "(334, 590, 25)"
      ]
     },
     "execution_count": 396,
     "metadata": {},
     "output_type": "execute_result"
    }
   ],
   "source": [
    "JASPAR_final['UniProt ID'].nunique(), final_cisbp['UniProt ID'].nunique(), final_FFS['UniProt ID'].nunique()"
   ]
  },
  {
   "cell_type": "code",
   "execution_count": null,
   "metadata": {},
   "outputs": [],
   "source": []
  },
  {
   "cell_type": "code",
   "execution_count": null,
   "metadata": {},
   "outputs": [],
   "source": []
  }
 ],
 "metadata": {
  "kernelspec": {
   "display_name": "Python 3",
   "language": "python",
   "name": "python3"
  },
  "language_info": {
   "codemirror_mode": {
    "name": "ipython",
    "version": 3
   },
   "file_extension": ".py",
   "mimetype": "text/x-python",
   "name": "python",
   "nbconvert_exporter": "python",
   "pygments_lexer": "ipython3",
   "version": "3.8.5"
  }
 },
 "nbformat": 4,
 "nbformat_minor": 4
}
